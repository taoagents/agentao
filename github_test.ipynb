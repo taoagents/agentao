{
 "cells": [
  {
   "cell_type": "code",
   "execution_count": 2,
   "metadata": {},
   "outputs": [
    {
     "data": {
      "text/plain": [
       "True"
      ]
     },
     "execution_count": 2,
     "metadata": {},
     "output_type": "execute_result"
    }
   ],
   "source": [
    "from github import Github, Auth\n",
    "from dotenv import load_dotenv\n",
    "import os\n",
    "\n",
    "load_dotenv()"
   ]
  },
  {
   "cell_type": "code",
   "execution_count": 4,
   "metadata": {},
   "outputs": [],
   "source": [
    "auth = Auth.Token(gh_token)\n",
    "g = Github(auth=auth)"
   ]
  },
  {
   "cell_type": "code",
   "execution_count": null,
   "metadata": {},
   "outputs": [],
   "source": [
    "for r in g.get_user().get_repos():\n",
    "    print(r.name)"
   ]
  },
  {
   "cell_type": "code",
   "execution_count": 5,
   "metadata": {},
   "outputs": [],
   "source": [
    "repo = g.get_repo(\"Shayansalesi/rep_bot\")"
   ]
  },
  {
   "cell_type": "markdown",
   "metadata": {},
   "source": [
    "Note that PR's are also considered issues, but the comments left on PR's need \n",
    "\n",
    "states:\n",
    "- \"open\"\n",
    "- \"closed\""
   ]
  },
  {
   "cell_type": "code",
   "execution_count": 25,
   "metadata": {},
   "outputs": [
    {
     "name": "stdout",
     "output_type": "stream",
     "text": [
      "https://api.github.com/repos/Shayansalesi/rep_bot/issues/5\n",
      "This is the description of the issue\n",
      "5\n",
      "@Shayansalesi testing a link\n",
      "This is an example of a multi-line comment\n",
      "\n",
      "Here is another line\n",
      "https://api.github.com/repos/Shayansalesi/rep_bot/issues/4\n",
      "gorgogriojgrijo\n",
      "4\n",
      "Im now adding a normal comment\n",
      "Mention issue #1\n",
      "open\n",
      "https://api.github.com/repos/Shayansalesi/rep_bot/issues/1\n",
      "This si the descr\n",
      "1\n",
      "this is the comment\n"
     ]
    }
   ],
   "source": [
    "# Review comments are exactly what you think: comments on a pull request's diff.\n",
    "# for comm in issue.as_pull_request().get_reviews():\n",
    " #   print(comm.requester)\n",
    "\n",
    "for issue in repo.get_issues(state=\"open\"):\n",
    "    print(issue.url)\n",
    "    print(issue.body)\n",
    "    print(issue.number)\n",
    "    for comment in issue.get_comments():\n",
    "        print(comment.body)\n",
    "\n",
    "    if issue.pull_request:\n",
    "        print(issue.as_pull_request().state)\n",
    "        issue.ur"
   ]
  },
  {
   "cell_type": "code",
   "execution_count": 23,
   "metadata": {},
   "outputs": [
    {
     "name": "stdout",
     "output_type": "stream",
     "text": [
      "https://api.github.com/repos/Shayansalesi/rep_bot/issues/6\n",
      "False\n",
      "This is a PR opened by AI tool [AgenTao](https://agentao.vercel.app/) to close [#5](text://https://github.com/Shayansalesi/rep_bot/issues/5) (Issue with no associated PR).\n",
      "\n",
      "@taoagents closes #5.\n",
      "\n",
      "<details>\n",
      "<summary>Metadata</summary>\n",
      "{\"agent\": \"F2aPa32nVhjv8e2wn\", \"issue_num\": 5, \"validator\": \"F2m38gsanegbi\"}\n",
      "</details>\n",
      "get_issue_comments:  I'm leaving a normal comment on this MR\n",
      "https://api.github.com/repos/Shayansalesi/rep_bot/issues/4\n",
      "False\n",
      "gorgogriojgrijo\n",
      "\n",
      "@taoagents solves #5 \n",
      "\n",
      "<details>\n",
      "<summary>Metadata</summary>\n",
      "{\"agent\": \"F2aPa32nVhjv8e2wn\", \"issue_num\": 5, \"validator\": \"F2m38gsanegbi\"}\n",
      "\n",
      "</details>\n",
      "get_issue_comments:  Im now adding a normal comment\n",
      "get_issue_comments:  Mention issue #1\n"
     ]
    }
   ],
   "source": [
    "for pr in repo.get_pulls(state=\"open\"):\n",
    "    print(pr.issue_url)\n",
    "    print(pr.draft)\n",
    "    print(pr.body)    \n",
    "    for comment in pr.get_comments():\n",
    "        print(\"get_comment: \", comment.body)\n",
    "\n",
    "    for comments in pr.get_issue_comments():\n",
    "        print(\"get_issue_comments: \", comments.body)\n",
    "    "
   ]
  },
  {
   "cell_type": "code",
   "execution_count": null,
   "metadata": {},
   "outputs": [],
   "source": [
    "pr = repo.get_pull(6)\n"
   ]
  },
  {
   "cell_type": "code",
   "execution_count": 20,
   "metadata": {},
   "outputs": [
    {
     "data": {
      "text/plain": [
       "'open'"
      ]
     },
     "execution_count": 20,
     "metadata": {},
     "output_type": "execute_result"
    }
   ],
   "source": [
    "pr.state"
   ]
  },
  {
   "cell_type": "code",
   "execution_count": 16,
   "metadata": {},
   "outputs": [],
   "source": [
    "issue = repo.get_issue(5)"
   ]
  },
  {
   "cell_type": "code",
   "execution_count": 18,
   "metadata": {},
   "outputs": [
    {
     "data": {
      "text/plain": [
       "'https://github.com/Shayansalesi/rep_bot/issues/5'"
      ]
     },
     "execution_count": 18,
     "metadata": {},
     "output_type": "execute_result"
    }
   ],
   "source": [
    "issue.html_url"
   ]
  },
  {
   "cell_type": "code",
   "execution_count": 19,
   "metadata": {},
   "outputs": [
    {
     "data": {
      "text/plain": [
       "'https://github.com/Shayansalesi/rep_bot'"
      ]
     },
     "execution_count": 19,
     "metadata": {},
     "output_type": "execute_result"
    }
   ],
   "source": [
    "repo.html_url"
   ]
  },
  {
   "cell_type": "code",
   "execution_count": 11,
   "metadata": {},
   "outputs": [
    {
     "name": "stdout",
     "output_type": "stream",
     "text": [
      "['gorgogriojgrijo', '@taoagents solves #5 ', '<details>', '<summary>Metadata</summary>', '{\"agent\": \"F2aPa32nVhjv8e2wn\", \"issue_num\": 5, \"validator\": \"F2m38gsanegbi\"}', '</details>']\n",
      "{\"agent\": \"F2aPa32nVhjv8e2wn\", \"issue_num\": 5, \"validator\": \"F2m38gsanegbi\"}\n"
     ]
    },
    {
     "data": {
      "text/plain": [
       "{'agent': 'F2aPa32nVhjv8e2wn', 'issue_num': 5, 'validator': 'F2m38gsanegbi'}"
      ]
     },
     "execution_count": 11,
     "metadata": {},
     "output_type": "execute_result"
    }
   ],
   "source": [
    "body_comms = pr.body.split(\"\\n\")\n",
    "# Remove all \\r characters in each substring in body_comms\n",
    "body_comms = [x.replace(\"\\r\", \"\") for x in body_comms]\n",
    "# Remove all empty strings in body_comms\n",
    "body_comms = list(filter(None, body_comms))\n",
    "print(body_comms)\n",
    "# Find the entry in body comms where the next element is </details>\n",
    "for i, body_comm in enumerate(body_comms):\n",
    "    if body_comm == \"</details>\":\n",
    "        break\n",
    "metadata = body_comms[i-1]\n",
    "print(metadata)\n",
    "\n",
    "import json\n",
    "\n",
    "json.loads(metadata)"
   ]
  },
  {
   "cell_type": "code",
   "execution_count": 24,
   "metadata": {},
   "outputs": [],
   "source": [
    "import bittensor as bt"
   ]
  },
  {
   "cell_type": "code",
   "execution_count": 25,
   "metadata": {},
   "outputs": [],
   "source": [
    "mg = bt.metagraph(62)"
   ]
  },
  {
   "cell_type": "code",
   "execution_count": 42,
   "metadata": {},
   "outputs": [
    {
     "data": {
      "text/plain": [
       "6"
      ]
     },
     "execution_count": 42,
     "metadata": {},
     "output_type": "execute_result"
    }
   ],
   "source": [
    "mg.hotkeys.index('5GVhSAHMw2Wp54ToWE6F3BLiFnnqcLPCMpCJEc8jhgt4BUgw')"
   ]
  },
  {
   "cell_type": "code",
   "execution_count": 44,
   "metadata": {},
   "outputs": [
    {
     "name": "stdout",
     "output_type": "stream",
     "text": [
      "5DRj1qUMWa7aY59HBLapy3AtzfKPya1LWi2WJ1RMWWh58cDX 1\n",
      "5FFApaS75bv5pJHfAp2FVLBj9ZaXuFDjEypsaBNc1wCfe52v 2\n"
     ]
    },
    {
     "data": {
      "text/plain": [
       "array([2., 0., 0., 1., 0., 0., 0., 0., 0., 0., 0., 0., 0., 0., 0., 0., 0.,\n",
       "       0., 0., 0., 0., 0., 0., 0., 0., 0., 0., 0., 0., 0., 0., 0., 0., 0.,\n",
       "       0., 0., 0., 0., 0., 0., 0., 0., 0., 0., 0., 0., 0., 0., 0., 0., 0.,\n",
       "       0., 0., 0., 0., 0., 0., 0., 0., 0., 0., 0., 0., 0., 0., 0., 0., 0.,\n",
       "       0., 0., 0., 0., 0., 0., 0., 0., 0., 0., 0., 0., 0., 0., 0., 0., 0.,\n",
       "       0., 0., 0., 0., 0., 0., 0., 0., 0., 0., 0., 0., 0., 0., 0., 0., 0.,\n",
       "       0., 0., 0., 0., 0., 0., 0., 0., 0., 0., 0., 0., 0., 0., 0., 0., 0.,\n",
       "       0., 0., 0., 0., 0., 0., 0., 0., 0., 0., 0., 0., 0., 0., 0., 0., 0.,\n",
       "       0., 0., 0., 0., 0., 0., 0., 0., 0., 0., 0., 0., 0., 0., 0., 0., 0.,\n",
       "       0., 0., 0., 0., 0., 0., 0., 0., 0., 0., 0., 0., 0., 0., 0., 0., 0.,\n",
       "       0., 0., 0., 0., 0., 0., 0., 0., 0., 0., 0., 0., 0., 0., 0., 0., 0.,\n",
       "       0., 0., 0., 0., 0., 0., 0., 0., 0., 0., 0., 0., 0., 0., 0., 0., 0.,\n",
       "       0., 0., 0., 0., 0., 0., 0., 0., 0., 0., 0., 0., 0., 0., 0., 0., 0.,\n",
       "       0., 0., 0., 0., 0., 0., 0., 0., 0., 0., 0., 0., 0., 0., 0., 0., 0.,\n",
       "       0., 0., 0., 0., 0., 0., 0., 0., 0., 0., 0., 0., 0., 0., 0., 0., 0.,\n",
       "       0.])"
      ]
     },
     "execution_count": 44,
     "metadata": {},
     "output_type": "execute_result"
    }
   ],
   "source": [
    "import numpy as np\n",
    "\n",
    "rewards = {'5DRj1qUMWa7aY59HBLapy3AtzfKPya1LWi2WJ1RMWWh58cDX': 1, '5FFApaS75bv5pJHfAp2FVLBj9ZaXuFDjEypsaBNc1wCfe52v': 2}\n",
    "\n",
    "rewards_vec = np.zeros(len(mg.uids))\n",
    "\n",
    "for miner_hotkey, pr_score in rewards.items():\n",
    "    print(miner_hotkey, pr_score)\n",
    "    try:\n",
    "        miner_uid = mg.hotkeys.index(miner_hotkey)\n",
    "        rewards_vec[miner_uid] = pr_score\n",
    "    except Exception as e:\n",
    "        print(e)\n",
    "\n",
    "rewards_vec"
   ]
  },
  {
   "cell_type": "code",
   "execution_count": 47,
   "metadata": {},
   "outputs": [
    {
     "data": {
      "text/plain": [
       "array([10, 10,  3,  4])"
      ]
     },
     "execution_count": 47,
     "metadata": {},
     "output_type": "execute_result"
    }
   ],
   "source": [
    "olds_rewards = np.array([1, 0, 3, 4])\n",
    "\n",
    "scattered_rewards = np.copy(olds_rewards)\n",
    "\n",
    "np.put_along_axis(scattered_rewards, np.array([0, 1]), np.array([10, 10]), axis=0)\n",
    "\n",
    "scattered_rewards"
   ]
  }
 ],
 "metadata": {
  "kernelspec": {
   "display_name": ".venv",
   "language": "python",
   "name": "python3"
  },
  "language_info": {
   "codemirror_mode": {
    "name": "ipython",
    "version": 3
   },
   "file_extension": ".py",
   "mimetype": "text/x-python",
   "name": "python",
   "nbconvert_exporter": "python",
   "pygments_lexer": "ipython3",
   "version": "3.12.6"
  }
 },
 "nbformat": 4,
 "nbformat_minor": 2
}
